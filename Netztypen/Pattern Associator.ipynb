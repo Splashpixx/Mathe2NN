{
 "cells": [
  {
   "cell_type": "markdown",
   "metadata": {},
   "source": [
    "### Pattern Associator\n",
    "- Netze vom Typ Pattern Associator(muster-assoziatives künstliches neuronales Netz) sind in der lage zuvor erlernte Muster zu erkennen indem es Assoziationen zwichen verschiedenen Input-Informationen bildet.\n",
    "\n",
    "- Dieser Netztyp besteht nur aus einer Input-Schicht und einer Output-Schicht, ohne Hiddenlayer. Die Anzahl der Output-Units entspricht der Anzahl der verschiedenen Muster die zu erkennen sind. \n",
    "\n",
    "- Der Pattern Associator wird mit der Delta- oder Hebb-Regel trainiert. Durch das Tarining mit den Lernregeln kann das Netz die Input-Informationen mit den Output-Unist assoziieren und so lernen die Muster zu erkennen.\n",
    "\n",
    "##### Wünschenswerte Eigentschaften\n",
    "- Toleranz gegenüber internen und externen Schäden. d.h. das Netz ist in der lage trotz innerer Schäden (z.b ein \"abgestobenes\" Neuron oder Gewicht) oder externer Schäden (z.b unvollständiger- oder fehlerhafter- Input) oft den richtigen Output zu generieren.\n",
    "\n",
    "- Generalisierung: Das Netz Katigorisiert verschiedene Input-Informationen die sich Ähnlich sind. Die Problematik der Übergeneralisierung muss dabei beachtet werden da dies zu falschen Katigorisierung von ähnlichen Input-Informationene führen kann.\n",
    "\n",
    "Quellen: https://imsc.uni-graz.at/modellwoche/2012/FachArbeitPucher.pdf, http://www.neuronalesnetz.de/pattern.html"
   ]
  },
  {
   "cell_type": "code",
   "execution_count": null,
   "metadata": {},
   "outputs": [],
   "source": []
  }
 ],
 "metadata": {
  "kernelspec": {
   "display_name": "Python 2",
   "language": "python",
   "name": "python2"
  },
  "language_info": {
   "codemirror_mode": {
    "name": "ipython",
    "version": 2
   },
   "file_extension": ".py",
   "mimetype": "text/x-python",
   "name": "python",
   "nbconvert_exporter": "python",
   "pygments_lexer": "ipython2",
   "version": "2.7.16"
  }
 },
 "nbformat": 4,
 "nbformat_minor": 2
}
